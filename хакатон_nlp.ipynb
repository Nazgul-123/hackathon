{
  "nbformat": 4,
  "nbformat_minor": 0,
  "metadata": {
    "colab": {
      "provenance": [],
      "collapsed_sections": [
        "wBU4gFBT69zV",
        "rXZQXd0p7kIz"
      ]
    },
    "kernelspec": {
      "name": "python3",
      "display_name": "Python 3"
    },
    "language_info": {
      "name": "python"
    }
  },
  "cells": [
    {
      "cell_type": "code",
      "source": [
        "!pip install YandexGPTLite"
      ],
      "metadata": {
        "id": "cfpDzs126SJz"
      },
      "execution_count": null,
      "outputs": []
    },
    {
      "cell_type": "code",
      "source": [
        "from yandexgptlite import YandexGPTLite"
      ],
      "metadata": {
        "id": "Yd7Q0qDX6Rcv"
      },
      "execution_count": 10,
      "outputs": []
    },
    {
      "cell_type": "code",
      "source": [
        "input_str = 'Обязанности: • Постановка стратегического маркетинга в компании • Планирование маркетинговой деятельности, руководство бюджетом по маркетингу и рекламе. • Ведение всех рекламных кампаний. Рекламная поддержка отдела продаж в привлечении клиентов. • Организация и контроль проведения рыночных исследований. • Разработка, согласование и проведение маркетинговых акций, анализ эффективности, отчетность. • Понимание выбора наиболее эффективных маркетинговых инструментов (пресса, газета, щитовая реклама, реклама в интернете) • Оценка эффективности рекламной кампании. • Мониторинг лояльности клиентов и общественного мнения о компании. • Организация взаимодействия работы в команде: коммерческий блок, розничный блок, блок маркетинга • Организация продвижения бренда, повышение осведомленности бренда, в рамках выставок, общего PR, Интернет канала. • Предоставление регулярных отчетов руководству компании о положении на рынке и действиях конкурентов.   Требования: • Опыт работы на позиции руководителя отдела маркетинга/ рекламы. • Опыт ведения переговоров. • Аналитический ум, знание 1С обязательно! • Грамотная речь, презентабельный вид, креативная личность. • Творческий и креативный подход, умение работать в стрессовых ситуациях, энергичность.   Условия: • Работа в успешной компании • Трудоустройство по ТК РФ • Социальный пакет • Пятидневная рабочая неделя • Корпоративная карта на предоставление скидок внутри компании • Командировки по региону'"
      ],
      "metadata": {
        "id": "JTCuerJPAvEM"
      },
      "execution_count": 23,
      "outputs": []
    },
    {
      "cell_type": "code",
      "source": [
        "import configparser\n",
        "\n",
        "config = configparser.ConfigParser()\n",
        "config.read('config.ini')\n",
        "\n",
        "login = config['account']['login']\n",
        "password = config['account']['password']\n",
        "\n",
        "account = YandexGPTLite(login, password)\n",
        "\n",
        "text = account.create_completion(input_str, '0.1', system_prompt = 'Какие у тебя есть навыки?', model='ds://bt18241kaideujrid9vn')\n",
        "print(text)"
      ],
      "metadata": {
        "colab": {
          "base_uri": "https://localhost:8080/"
        },
        "collapsed": true,
        "id": "ZulD6kuD4Lp9",
        "outputId": "8337077f-ecb1-4770-9d4c-30730590029e"
      },
      "execution_count": 24,
      "outputs": [
        {
          "output_type": "stream",
          "name": "stdout",
          "text": [
            "Постановка стратегического маркетинга в компании; Планирование маркетинговой деятельности; руководство бюджетом по маркетингу и рекламе; Ведение всех рекламных кампаний; Рекламная поддержка отдела продаж в привлечении клиентов; Организация и контроль проведения рыночных исследований; Разработка, согласование и проведение маркетинговых акций; анализ эффективности; отчетность; Понимание выбора наиболее эффективных маркетинговых инструментов; Оценка эффективности рекламной кампании; Мониторинг лояльности клиентов и общественного мнения о компании; Организация взаимодействия работы в команде; Организация продвижения бренда; повышение осведомленности бренда; Предоставление регулярных отчетов руководству компании о положении на рынке и действиях конкурентов; Опыт ведения переговоров; Аналитический ум; 1С; Грамотная речь; Творческий и креативный подход; умение работать в стрессовых ситуациях; энергичность\n"
          ]
        }
      ]
    },
    {
      "cell_type": "code",
      "source": [
        "import json\n",
        "skills_list = text.split('; ')\n",
        "\n",
        "data_model = {'skills': skills_list}\n",
        "\n",
        "with open('model_test.json', 'w') as f:\n",
        "    json.dump(data_model, f, ensure_ascii=False, indent=4)"
      ],
      "metadata": {
        "id": "3tFY4e2tACwN"
      },
      "execution_count": 25,
      "outputs": []
    },
    {
      "cell_type": "code",
      "source": [
        "data_model"
      ],
      "metadata": {
        "colab": {
          "base_uri": "https://localhost:8080/"
        },
        "collapsed": true,
        "id": "OJfsKXBgAKLI",
        "outputId": "605fa8b3-2d8b-4621-eeeb-e8bfcf930ae1"
      },
      "execution_count": 26,
      "outputs": [
        {
          "output_type": "execute_result",
          "data": {
            "text/plain": [
              "{'skills': ['Постановка стратегического маркетинга в компании',\n",
              "  'Планирование маркетинговой деятельности',\n",
              "  'руководство бюджетом по маркетингу и рекламе',\n",
              "  'Ведение всех рекламных кампаний',\n",
              "  'Рекламная поддержка отдела продаж в привлечении клиентов',\n",
              "  'Организация и контроль проведения рыночных исследований',\n",
              "  'Разработка, согласование и проведение маркетинговых акций',\n",
              "  'анализ эффективности',\n",
              "  'отчетность',\n",
              "  'Понимание выбора наиболее эффективных маркетинговых инструментов',\n",
              "  'Оценка эффективности рекламной кампании',\n",
              "  'Мониторинг лояльности клиентов и общественного мнения о компании',\n",
              "  'Организация взаимодействия работы в команде',\n",
              "  'Организация продвижения бренда',\n",
              "  'повышение осведомленности бренда',\n",
              "  'Предоставление регулярных отчетов руководству компании о положении на рынке и действиях конкурентов',\n",
              "  'Опыт ведения переговоров',\n",
              "  'Аналитический ум',\n",
              "  '1С',\n",
              "  'Грамотная речь',\n",
              "  'Творческий и креативный подход',\n",
              "  'умение работать в стрессовых ситуациях',\n",
              "  'энергичность']}"
            ]
          },
          "metadata": {},
          "execution_count": 26
        }
      ]
    },
    {
      "cell_type": "code",
      "source": [
        "#создаем функцию для загрузки данных\n",
        "def opener(name):\n",
        "    f = open(name, 'r', encoding='UTF8')\n",
        "    return json.load(f)"
      ],
      "metadata": {
        "id": "MwzmH-BP7C-u"
      },
      "execution_count": 28,
      "outputs": []
    },
    {
      "cell_type": "code",
      "source": [
        "data_model = opener('model_test.json')\n",
        "model_skills = data_model['skills']\n",
        "print(model_skills)"
      ],
      "metadata": {
        "colab": {
          "base_uri": "https://localhost:8080/"
        },
        "id": "oFVRmCRHAGL6",
        "outputId": "22d93ff5-251e-49c7-ccc8-af63add90ef5"
      },
      "execution_count": 29,
      "outputs": [
        {
          "output_type": "stream",
          "name": "stdout",
          "text": [
            "['Постановка стратегического маркетинга в компании', 'Планирование маркетинговой деятельности', 'руководство бюджетом по маркетингу и рекламе', 'Ведение всех рекламных кампаний', 'Рекламная поддержка отдела продаж в привлечении клиентов', 'Организация и контроль проведения рыночных исследований', 'Разработка, согласование и проведение маркетинговых акций', 'анализ эффективности', 'отчетность', 'Понимание выбора наиболее эффективных маркетинговых инструментов', 'Оценка эффективности рекламной кампании', 'Мониторинг лояльности клиентов и общественного мнения о компании', 'Организация взаимодействия работы в команде', 'Организация продвижения бренда', 'повышение осведомленности бренда', 'Предоставление регулярных отчетов руководству компании о положении на рынке и действиях конкурентов', 'Опыт ведения переговоров', 'Аналитический ум', '1С', 'Грамотная речь', 'Творческий и креативный подход', 'умение работать в стрессовых ситуациях', 'энергичность']\n"
          ]
        }
      ]
    },
    {
      "cell_type": "markdown",
      "source": [
        "#F1 score"
      ],
      "metadata": {
        "id": "wBU4gFBT69zV"
      }
    },
    {
      "cell_type": "code",
      "source": [
        "import json\n",
        "import numpy as np\n",
        "import torch\n",
        "from sklearn.metrics import f1_score\n",
        "from scipy.stats import hmean\n",
        "from tqdm import tqdm"
      ],
      "metadata": {
        "id": "lMNoXitM6FuT"
      },
      "execution_count": 13,
      "outputs": []
    },
    {
      "cell_type": "code",
      "source": [
        "%%capture\n",
        "!pip install -U sentence-transformers"
      ],
      "metadata": {
        "id": "flRitK1e7AvM"
      },
      "execution_count": 14,
      "outputs": []
    },
    {
      "cell_type": "code",
      "source": [
        "from sentence_transformers import SentenceTransformer, util\n",
        "#При возникновении TypeError рекомендуем заново запустить верхнюю строчку"
      ],
      "metadata": {
        "colab": {
          "base_uri": "https://localhost:8080/"
        },
        "id": "I36dg1L67Bcd",
        "outputId": "18ec367e-8dbc-44fc-b4ad-fc60758fd074"
      },
      "execution_count": 15,
      "outputs": [
        {
          "output_type": "stream",
          "name": "stderr",
          "text": [
            "/usr/local/lib/python3.10/dist-packages/sentence_transformers/cross_encoder/CrossEncoder.py:11: TqdmExperimentalWarning: Using `tqdm.autonotebook.tqdm` in notebook mode. Use `tqdm.tqdm` instead to force console mode (e.g. in jupyter console)\n",
            "  from tqdm.autonotebook import tqdm, trange\n"
          ]
        }
      ]
    },
    {
      "cell_type": "code",
      "source": [
        "data_test = opener('test.json') #загружаем тестовые набор данных\n",
        "data_model = opener('model_test.json') #загружаем данные, размеченные моделью"
      ],
      "metadata": {
        "id": "BoWTfUy77FOM"
      },
      "execution_count": null,
      "outputs": []
    },
    {
      "cell_type": "code",
      "source": [
        "orig_skills = [skill['skills'] for skill in data_test] #создаем список скиллов\n",
        "#corpus_embeddings = [np.array(skill['embs'], dtype='float32') for skill in test] если у вас есть список эмбеддингов в файле\n",
        "model_skills = [skill['skills'] for skill in data_model]"
      ],
      "metadata": {
        "id": "DD9QMy8K8B0g"
      },
      "execution_count": null,
      "outputs": []
    },
    {
      "cell_type": "code",
      "source": [
        "device = \"cuda\" if torch.cuda.is_available() else \"cpu\"\n",
        "model = SentenceTransformer(\"BAAI/bge-m3\", device=device)"
      ],
      "metadata": {
        "id": "u-h6IRKZ8Ej-"
      },
      "execution_count": null,
      "outputs": []
    },
    {
      "cell_type": "code",
      "source": [
        "#если для оригинальных скиллов не были построены эмбеддинги, то можно воспользоваться этой строчкой\n",
        "#эмбеддинги строятся в формате numpy.array с float32\n",
        "corpus_embeddings = [model.encode(skills) for skills in tqdm(orig_skills)]"
      ],
      "metadata": {
        "id": "SDGc3NFI8Fyj"
      },
      "execution_count": null,
      "outputs": []
    },
    {
      "cell_type": "code",
      "source": [
        "\"\"\" Функция skill_to_vector:\n",
        "orig_skills - список оригианльных скиллов;\n",
        "model_skills - список скиллов, обработанных моделью;\n",
        "hits - список выявленных сходств;\n",
        "with_FN - учитывать FN (по умолчанию True).\n",
        "\"\"\"\n",
        "\n",
        "def skills_to_vector(orig_skills, model_skills, hits, with_FN = True):\n",
        "    y_true = np.ones(len(orig_skills)) #оригинальный вектор из единиц\n",
        "    y_pred = np.zeros(len(orig_skills)) #предсказания модели - вектор из нулей\n",
        "    for i in range(len(hits)):\n",
        "        if hits[i][0]['score'] > 0.85: #работает при сходстве скиллов больше 85%\n",
        "            y_pred[hits[i][0]['corpus_id']] = 1 #добавляем 1 в предсказания\n",
        "        elif with_FN:\n",
        "            np.append(y_true, 0)\n",
        "            np.append(y_pred, 1)\n",
        "    return f1_score(y_true, y_pred, average=\"binary\", zero_division=0.0)"
      ],
      "metadata": {
        "id": "f98zqUhB8G9w"
      },
      "execution_count": null,
      "outputs": []
    },
    {
      "cell_type": "code",
      "source": [
        "f1_list = []\n",
        "for s in tqdm(range(len(model_skills))):\n",
        "    if inf_skills[s] != []:\n",
        "        query_embeddings = model.encode(inf_skills[s])\n",
        "        hits = util.semantic_search(query_embeddings, corpus_embeddings[s], top_k=1)\n",
        "        fscore= skills_to_vector(orig_skills[s], model_skills[s], hits, with_FN = True)\n",
        "        f1_list.append(fscore)\n",
        "value = np.mean(np.array(f1_list)) #Для подсчета overall F1-score\n",
        "print(f'F1-score: {value:.2f}')"
      ],
      "metadata": {
        "id": "4n2WM7LF8IoO"
      },
      "execution_count": null,
      "outputs": []
    },
    {
      "cell_type": "markdown",
      "source": [
        "#upload"
      ],
      "metadata": {
        "id": "rXZQXd0p7kIz"
      }
    },
    {
      "cell_type": "code",
      "source": [
        "#Загрузка файла в формате .json\n",
        "import json\n",
        "\n",
        "\"\"\" Каждый словарь состоит из следующих элементов:\n",
        "id - номер вакансии\n",
        "title - название вакансии\n",
        "desc - описание вакансии\n",
        "values - список словарей со следующими ключами: start - индекс начала скилла, end - индекс конца скилла, skill - сущность\n",
        "\"\"\"\n",
        "\n",
        "with open('test.json', encoding='UTF8') as file:\n",
        "    data = json.load(file)"
      ],
      "metadata": {
        "id": "DKnnOHmF7t3H"
      },
      "execution_count": null,
      "outputs": []
    },
    {
      "cell_type": "code",
      "source": [
        "#выгрузка файла в формате .json\n",
        "import json\n",
        "\n",
        "with open('test.json', 'w', encoding='UTF8') as f:\n",
        "    json.dump(data, f, ensure_ascii=False, indent=4)"
      ],
      "metadata": {
        "id": "ne8iLEG07w-G"
      },
      "execution_count": null,
      "outputs": []
    },
    {
      "cell_type": "code",
      "source": [
        "#создание таблицы (при необходимости)\n",
        "import pandas as pd\n",
        "\n",
        "df = pd.DataFrame.from_dict(data)"
      ],
      "metadata": {
        "id": "hZwkU88J70CW"
      },
      "execution_count": null,
      "outputs": []
    },
    {
      "cell_type": "code",
      "source": [
        "#создание датасета для обучения модели (при необходимости)\n",
        "from datasets import load_dataset, Dataset\n",
        "\n",
        "ds = Dataset.from_pandas(df)"
      ],
      "metadata": {
        "id": "436kTkLY71Vj"
      },
      "execution_count": null,
      "outputs": []
    },
    {
      "cell_type": "code",
      "source": [
        "#деление датасета на train и test (при необходимости)\n",
        "\n",
        "ds = ds.train_test_split(test_size=0.2)"
      ],
      "metadata": {
        "id": "9Oj1ckon72Zb"
      },
      "execution_count": null,
      "outputs": []
    },
    {
      "cell_type": "code",
      "source": [
        "!pip install -U sentence-transformers"
      ],
      "metadata": {
        "id": "kOnDkfST73tr"
      },
      "execution_count": null,
      "outputs": []
    },
    {
      "cell_type": "code",
      "source": [
        "from sentence_transformers import SentenceTransformer\n",
        "import torch\n",
        "\n",
        "device = \"cuda\" if torch.cuda.is_available() else \"cpu\"\n",
        "model = SentenceTransformer(\"BAAI/bge-m3\", device=device)\n",
        "#При возникновении TypeError рекомендуем заново запустить верхнюю строчку"
      ],
      "metadata": {
        "id": "oZ69cIrA75Lj"
      },
      "execution_count": null,
      "outputs": []
    },
    {
      "cell_type": "code",
      "source": [
        "model"
      ],
      "metadata": {
        "id": "Cq3JIYc_76Zc"
      },
      "execution_count": null,
      "outputs": []
    },
    {
      "cell_type": "code",
      "source": [
        "#Data - список словарей\n",
        "from tqdm import tqdm\n",
        "\n",
        "for d in tqdm(data):\n",
        "    for value in d['values']:\n",
        "        value['emb'] = list(map(str, model.encode(value['skill']))) #строим эмбеддинг для каждого скилла и превращаем в строку (для сохранения в JSON)"
      ],
      "metadata": {
        "id": "so9crGVq777a"
      },
      "execution_count": null,
      "outputs": []
    },
    {
      "cell_type": "code",
      "source": [
        "\"\"\" Переделываем словарь в следующий формат:\n",
        "id - номер вакансии\n",
        "desc - описание вакансии\n",
        "skills - список скиллов\n",
        "embs - список эмбеддингов\n",
        "(При необходимости)\"\"\"\n",
        "\n",
        "skill_list = []\n",
        "for d in data:\n",
        "    vac_dict = {'id':d['id'], 'desc': d['desc']}\n",
        "    vac_dict['skills'] = []\n",
        "    vac_dict['embs'] = []\n",
        "    for sk in d['values']:\n",
        "        vac_dict['skills'].append(sk['skill'])\n",
        "        vac_dict['embs'].append(sk['emb'])\n",
        "    skill_list.append(vac_dict)"
      ],
      "metadata": {
        "id": "QAc6iqaU7-Dn"
      },
      "execution_count": null,
      "outputs": []
    },
    {
      "cell_type": "code",
      "source": [
        "#сохраняем в json\n",
        "import json\n",
        "\n",
        "with open('test_emb.json', 'w', encoding='UTF8') as f:\n",
        "    json.dump(skill_list, f, ensure_ascii=False, indent=4)"
      ],
      "metadata": {
        "id": "AhaggDXy7_k0"
      },
      "execution_count": null,
      "outputs": []
    }
  ]
}